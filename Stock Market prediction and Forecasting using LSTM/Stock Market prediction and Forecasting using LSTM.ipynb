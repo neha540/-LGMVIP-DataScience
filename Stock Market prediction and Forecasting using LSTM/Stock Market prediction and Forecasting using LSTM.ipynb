{
 "cells": [
  {
   "cell_type": "markdown",
   "id": "5a13f875",
   "metadata": {},
   "source": [
    "# Stock Market prediction and forecating (LSTM)"
   ]
  },
  {
   "cell_type": "code",
   "execution_count": 1,
   "id": "ebe0a75f",
   "metadata": {},
   "outputs": [],
   "source": [
    "import numpy as np\n",
    "import matplotlib.pyplot as plt\n",
    "import pandas as pd\n",
    "\n"
   ]
  },
  {
   "cell_type": "code",
   "execution_count": 2,
   "id": "698fbc55",
   "metadata": {},
   "outputs": [],
   "source": [
    "import tensorflow as tf \n",
    "from tensorflow import keras "
   ]
  },
  {
   "cell_type": "code",
   "execution_count": 3,
   "id": "90e9c15a",
   "metadata": {},
   "outputs": [],
   "source": [
    "dataset_train = pd.read_csv('NSE-TATAGLOBAL.csv')\n",
    "training_set = dataset_train.iloc[:, 1:2].values"
   ]
  },
  {
   "cell_type": "code",
   "execution_count": 4,
   "id": "629d92b6",
   "metadata": {},
   "outputs": [
    {
     "data": {
      "text/html": [
       "<div>\n",
       "<style scoped>\n",
       "    .dataframe tbody tr th:only-of-type {\n",
       "        vertical-align: middle;\n",
       "    }\n",
       "\n",
       "    .dataframe tbody tr th {\n",
       "        vertical-align: top;\n",
       "    }\n",
       "\n",
       "    .dataframe thead th {\n",
       "        text-align: right;\n",
       "    }\n",
       "</style>\n",
       "<table border=\"1\" class=\"dataframe\">\n",
       "  <thead>\n",
       "    <tr style=\"text-align: right;\">\n",
       "      <th></th>\n",
       "      <th>Date</th>\n",
       "      <th>Open</th>\n",
       "      <th>High</th>\n",
       "      <th>Low</th>\n",
       "      <th>Last</th>\n",
       "      <th>Close</th>\n",
       "      <th>Total Trade Quantity</th>\n",
       "      <th>Turnover (Lacs)</th>\n",
       "    </tr>\n",
       "  </thead>\n",
       "  <tbody>\n",
       "    <tr>\n",
       "      <th>0</th>\n",
       "      <td>2018-09-28</td>\n",
       "      <td>234.05</td>\n",
       "      <td>235.95</td>\n",
       "      <td>230.20</td>\n",
       "      <td>233.50</td>\n",
       "      <td>233.75</td>\n",
       "      <td>3069914</td>\n",
       "      <td>7162.35</td>\n",
       "    </tr>\n",
       "    <tr>\n",
       "      <th>1</th>\n",
       "      <td>2018-09-27</td>\n",
       "      <td>234.55</td>\n",
       "      <td>236.80</td>\n",
       "      <td>231.10</td>\n",
       "      <td>233.80</td>\n",
       "      <td>233.25</td>\n",
       "      <td>5082859</td>\n",
       "      <td>11859.95</td>\n",
       "    </tr>\n",
       "    <tr>\n",
       "      <th>2</th>\n",
       "      <td>2018-09-26</td>\n",
       "      <td>240.00</td>\n",
       "      <td>240.00</td>\n",
       "      <td>232.50</td>\n",
       "      <td>235.00</td>\n",
       "      <td>234.25</td>\n",
       "      <td>2240909</td>\n",
       "      <td>5248.60</td>\n",
       "    </tr>\n",
       "    <tr>\n",
       "      <th>3</th>\n",
       "      <td>2018-09-25</td>\n",
       "      <td>233.30</td>\n",
       "      <td>236.75</td>\n",
       "      <td>232.00</td>\n",
       "      <td>236.25</td>\n",
       "      <td>236.10</td>\n",
       "      <td>2349368</td>\n",
       "      <td>5503.90</td>\n",
       "    </tr>\n",
       "    <tr>\n",
       "      <th>4</th>\n",
       "      <td>2018-09-24</td>\n",
       "      <td>233.55</td>\n",
       "      <td>239.20</td>\n",
       "      <td>230.75</td>\n",
       "      <td>234.00</td>\n",
       "      <td>233.30</td>\n",
       "      <td>3423509</td>\n",
       "      <td>7999.55</td>\n",
       "    </tr>\n",
       "  </tbody>\n",
       "</table>\n",
       "</div>"
      ],
      "text/plain": [
       "         Date    Open    High     Low    Last   Close  Total Trade Quantity  \\\n",
       "0  2018-09-28  234.05  235.95  230.20  233.50  233.75               3069914   \n",
       "1  2018-09-27  234.55  236.80  231.10  233.80  233.25               5082859   \n",
       "2  2018-09-26  240.00  240.00  232.50  235.00  234.25               2240909   \n",
       "3  2018-09-25  233.30  236.75  232.00  236.25  236.10               2349368   \n",
       "4  2018-09-24  233.55  239.20  230.75  234.00  233.30               3423509   \n",
       "\n",
       "   Turnover (Lacs)  \n",
       "0          7162.35  \n",
       "1         11859.95  \n",
       "2          5248.60  \n",
       "3          5503.90  \n",
       "4          7999.55  "
      ]
     },
     "execution_count": 4,
     "metadata": {},
     "output_type": "execute_result"
    }
   ],
   "source": [
    "dataset_train.head()"
   ]
  },
  {
   "cell_type": "code",
   "execution_count": 5,
   "id": "a608bdaa",
   "metadata": {},
   "outputs": [],
   "source": [
    "from sklearn.preprocessing import MinMaxScaler\n",
    "sc = MinMaxScaler(feature_range = (0, 1))\n",
    "training_set_scaled = sc.fit_transform(training_set)"
   ]
  },
  {
   "cell_type": "code",
   "execution_count": 6,
   "id": "8be0347b",
   "metadata": {},
   "outputs": [],
   "source": [
    "X_train = []\n",
    "y_train = []\n",
    "for i in range(60, 2035):\n",
    "    X_train.append(training_set_scaled[i-60:i, 0])\n",
    "    y_train.append(training_set_scaled[i, 0])\n",
    "X_train, y_train = np.array(X_train), np.array(y_train)"
   ]
  },
  {
   "cell_type": "code",
   "execution_count": 7,
   "id": "c73f1fee",
   "metadata": {},
   "outputs": [],
   "source": [
    "X_train = np.reshape(X_train, (X_train.shape[0], X_train.shape[1], 1))"
   ]
  },
  {
   "cell_type": "code",
   "execution_count": 8,
   "id": "936ce3d6",
   "metadata": {},
   "outputs": [],
   "source": [
    "from keras.models import Sequential\n",
    "from keras.layers import Dense\n",
    "from keras.layers import LSTM\n",
    "from keras.layers import Dropout"
   ]
  },
  {
   "cell_type": "code",
   "execution_count": 9,
   "id": "a53f839f",
   "metadata": {},
   "outputs": [],
   "source": [
    "regressor = Sequential()\n",
    "\n",
    "# Adding the first LSTM layer and some Dropout regularisation\n",
    "regressor.add(LSTM(units = 50, return_sequences = True, input_shape = (X_train.shape[1], 1)))\n",
    "regressor.add(Dropout(0.2))"
   ]
  },
  {
   "cell_type": "code",
   "execution_count": 10,
   "id": "878c6413",
   "metadata": {},
   "outputs": [],
   "source": [
    "regressor.add(LSTM(units = 50, return_sequences = True))\n",
    "regressor.add(Dropout(0.2))"
   ]
  },
  {
   "cell_type": "code",
   "execution_count": 11,
   "id": "f03ddc22",
   "metadata": {},
   "outputs": [],
   "source": [
    "regressor.add(LSTM(units = 50, return_sequences = True))\n",
    "regressor.add(Dropout(0.2))"
   ]
  },
  {
   "cell_type": "code",
   "execution_count": 12,
   "id": "2e8d6a1c",
   "metadata": {},
   "outputs": [],
   "source": [
    "regressor.add(LSTM(units = 50))\n",
    "regressor.add(Dropout(0.2))"
   ]
  },
  {
   "cell_type": "code",
   "execution_count": 13,
   "id": "f4bdaff8",
   "metadata": {},
   "outputs": [
    {
     "name": "stdout",
     "output_type": "stream",
     "text": [
      "Epoch 1/100\n",
      "62/62 [==============================] - 14s 107ms/step - loss: 0.0113\n",
      "Epoch 2/100\n",
      "62/62 [==============================] - 7s 108ms/step - loss: 0.0035\n",
      "Epoch 3/100\n",
      "62/62 [==============================] - 7s 110ms/step - loss: 0.0028\n",
      "Epoch 4/100\n",
      "62/62 [==============================] - 7s 118ms/step - loss: 0.0027\n",
      "Epoch 5/100\n",
      "62/62 [==============================] - 7s 116ms/step - loss: 0.0024\n",
      "Epoch 6/100\n",
      "62/62 [==============================] - 7s 116ms/step - loss: 0.0024\n",
      "Epoch 7/100\n",
      "62/62 [==============================] - 7s 115ms/step - loss: 0.0024\n",
      "Epoch 8/100\n",
      "62/62 [==============================] - 7s 112ms/step - loss: 0.0022\n",
      "Epoch 9/100\n",
      "62/62 [==============================] - 9s 151ms/step - loss: 0.0022\n",
      "Epoch 10/100\n",
      "62/62 [==============================] - 7s 114ms/step - loss: 0.0023\n",
      "Epoch 11/100\n",
      "62/62 [==============================] - 8s 131ms/step - loss: 0.0017\n",
      "Epoch 12/100\n",
      "62/62 [==============================] - 10s 161ms/step - loss: 0.0020\n",
      "Epoch 13/100\n",
      "62/62 [==============================] - 9s 149ms/step - loss: 0.0016\n",
      "Epoch 14/100\n",
      "62/62 [==============================] - 8s 134ms/step - loss: 0.0016\n",
      "Epoch 15/100\n",
      "62/62 [==============================] - 9s 138ms/step - loss: 0.0016\n",
      "Epoch 16/100\n",
      "62/62 [==============================] - 8s 137ms/step - loss: 0.0016\n",
      "Epoch 17/100\n",
      "62/62 [==============================] - 8s 137ms/step - loss: 0.0017\n",
      "Epoch 18/100\n",
      "62/62 [==============================] - 8s 137ms/step - loss: 0.0016\n",
      "Epoch 19/100\n",
      "62/62 [==============================] - 9s 138ms/step - loss: 0.0013\n",
      "Epoch 20/100\n",
      "62/62 [==============================] - 9s 147ms/step - loss: 0.0013\n",
      "Epoch 21/100\n",
      "62/62 [==============================] - 9s 143ms/step - loss: 0.0013\n",
      "Epoch 22/100\n",
      "62/62 [==============================] - 8s 123ms/step - loss: 0.0013\n",
      "Epoch 23/100\n",
      "62/62 [==============================] - 8s 128ms/step - loss: 0.0017\n",
      "Epoch 24/100\n",
      "62/62 [==============================] - 8s 136ms/step - loss: 0.0015\n",
      "Epoch 25/100\n",
      "62/62 [==============================] - 8s 130ms/step - loss: 0.0013\n",
      "Epoch 26/100\n",
      "62/62 [==============================] - 8s 130ms/step - loss: 0.0013\n",
      "Epoch 27/100\n",
      "62/62 [==============================] - 8s 134ms/step - loss: 0.0012\n",
      "Epoch 28/100\n",
      "62/62 [==============================] - 8s 131ms/step - loss: 0.0012\n",
      "Epoch 29/100\n",
      "62/62 [==============================] - 9s 140ms/step - loss: 0.0011\n",
      "Epoch 30/100\n",
      "62/62 [==============================] - 8s 122ms/step - loss: 0.0010\n",
      "Epoch 31/100\n",
      "62/62 [==============================] - 8s 131ms/step - loss: 0.0012\n",
      "Epoch 32/100\n",
      "62/62 [==============================] - 8s 129ms/step - loss: 0.0011\n",
      "Epoch 33/100\n",
      "62/62 [==============================] - 7s 120ms/step - loss: 9.4568e-04\n",
      "Epoch 34/100\n",
      "62/62 [==============================] - 8s 123ms/step - loss: 0.0011\n",
      "Epoch 35/100\n",
      "62/62 [==============================] - 7s 114ms/step - loss: 0.0010\n",
      "Epoch 36/100\n",
      "62/62 [==============================] - 7s 114ms/step - loss: 9.3745e-04\n",
      "Epoch 37/100\n",
      "62/62 [==============================] - 7s 115ms/step - loss: 0.0012\n",
      "Epoch 38/100\n",
      "62/62 [==============================] - 7s 109ms/step - loss: 0.0012\n",
      "Epoch 39/100\n",
      "62/62 [==============================] - 7s 110ms/step - loss: 9.9919e-04\n",
      "Epoch 40/100\n",
      "62/62 [==============================] - 7s 117ms/step - loss: 9.4315e-04\n",
      "Epoch 41/100\n",
      "62/62 [==============================] - 7s 109ms/step - loss: 9.8301e-04\n",
      "Epoch 42/100\n",
      "62/62 [==============================] - 7s 108ms/step - loss: 8.9427e-04\n",
      "Epoch 43/100\n",
      "62/62 [==============================] - 7s 106ms/step - loss: 9.6197e-04\n",
      "Epoch 44/100\n",
      "62/62 [==============================] - 7s 107ms/step - loss: 9.7668e-04\n",
      "Epoch 45/100\n",
      "62/62 [==============================] - 6s 105ms/step - loss: 8.7900e-04\n",
      "Epoch 46/100\n",
      "62/62 [==============================] - 7s 108ms/step - loss: 9.5610e-04\n",
      "Epoch 47/100\n",
      "62/62 [==============================] - 7s 105ms/step - loss: 8.5985e-04\n",
      "Epoch 48/100\n",
      "62/62 [==============================] - 7s 106ms/step - loss: 9.4687e-04\n",
      "Epoch 49/100\n",
      "62/62 [==============================] - 7s 107ms/step - loss: 0.0011\n",
      "Epoch 50/100\n",
      "62/62 [==============================] - 7s 113ms/step - loss: 9.4485e-04\n",
      "Epoch 51/100\n",
      "62/62 [==============================] - 7s 107ms/step - loss: 8.6817e-04\n",
      "Epoch 52/100\n",
      "62/62 [==============================] - 7s 113ms/step - loss: 7.8664e-04\n",
      "Epoch 53/100\n",
      "62/62 [==============================] - 7s 115ms/step - loss: 7.4059e-04\n",
      "Epoch 54/100\n",
      "62/62 [==============================] - 6s 102ms/step - loss: 8.6727e-04\n",
      "Epoch 55/100\n",
      "62/62 [==============================] - 7s 105ms/step - loss: 8.3518e-04\n",
      "Epoch 56/100\n",
      "62/62 [==============================] - 7s 106ms/step - loss: 7.5906e-04\n",
      "Epoch 57/100\n",
      "62/62 [==============================] - 7s 105ms/step - loss: 7.2441e-04\n",
      "Epoch 58/100\n",
      "62/62 [==============================] - 7s 115ms/step - loss: 7.5854e-04\n",
      "Epoch 59/100\n",
      "62/62 [==============================] - 8s 124ms/step - loss: 7.4501e-04\n",
      "Epoch 60/100\n",
      "62/62 [==============================] - 7s 117ms/step - loss: 8.1802e-04\n",
      "Epoch 61/100\n",
      "62/62 [==============================] - 7s 107ms/step - loss: 8.3394e-04\n",
      "Epoch 62/100\n",
      "62/62 [==============================] - 7s 112ms/step - loss: 7.2105e-04\n",
      "Epoch 63/100\n",
      "62/62 [==============================] - 7s 110ms/step - loss: 8.4112e-04\n",
      "Epoch 64/100\n",
      "62/62 [==============================] - 7s 119ms/step - loss: 7.2108e-04\n",
      "Epoch 65/100\n",
      "62/62 [==============================] - 7s 114ms/step - loss: 7.5923e-04\n",
      "Epoch 66/100\n",
      "62/62 [==============================] - 7s 113ms/step - loss: 7.4594e-04\n",
      "Epoch 67/100\n",
      "62/62 [==============================] - 7s 109ms/step - loss: 7.6450e-04\n",
      "Epoch 68/100\n",
      "62/62 [==============================] - 6s 105ms/step - loss: 7.0905e-04\n",
      "Epoch 69/100\n",
      "62/62 [==============================] - 6s 90ms/step - loss: 6.8786e-04\n",
      "Epoch 70/100\n",
      "62/62 [==============================] - 5s 79ms/step - loss: 7.2600e-04\n",
      "Epoch 71/100\n",
      "62/62 [==============================] - 5s 79ms/step - loss: 7.2051e-04\n",
      "Epoch 72/100\n",
      "62/62 [==============================] - 5s 82ms/step - loss: 7.3863e-04\n",
      "Epoch 73/100\n",
      "62/62 [==============================] - 5s 85ms/step - loss: 6.5753e-04\n",
      "Epoch 74/100\n",
      "62/62 [==============================] - 5s 85ms/step - loss: 5.6585e-04\n",
      "Epoch 75/100\n",
      "62/62 [==============================] - 7s 106ms/step - loss: 6.5397e-04\n",
      "Epoch 76/100\n",
      "62/62 [==============================] - 7s 117ms/step - loss: 7.0082e-04\n",
      "Epoch 77/100\n",
      "62/62 [==============================] - 7s 109ms/step - loss: 6.8238e-04\n",
      "Epoch 78/100\n",
      "62/62 [==============================] - 6s 103ms/step - loss: 7.0882e-04\n",
      "Epoch 79/100\n",
      "62/62 [==============================] - 6s 102ms/step - loss: 7.5228e-04\n",
      "Epoch 80/100\n",
      "62/62 [==============================] - 6s 105ms/step - loss: 6.5407e-04\n",
      "Epoch 81/100\n",
      "62/62 [==============================] - 6s 104ms/step - loss: 6.3224e-04\n",
      "Epoch 82/100\n",
      "62/62 [==============================] - 7s 107ms/step - loss: 7.5161e-04\n",
      "Epoch 83/100\n",
      "62/62 [==============================] - 7s 120ms/step - loss: 6.7900e-04\n",
      "Epoch 84/100\n",
      "62/62 [==============================] - 7s 116ms/step - loss: 6.9098e-04\n",
      "Epoch 85/100\n",
      "62/62 [==============================] - 7s 109ms/step - loss: 6.3542e-04\n",
      "Epoch 86/100\n",
      "62/62 [==============================] - 7s 108ms/step - loss: 8.6069e-04\n",
      "Epoch 87/100\n",
      "62/62 [==============================] - 7s 106ms/step - loss: 7.6353e-04\n",
      "Epoch 88/100\n",
      "62/62 [==============================] - 7s 107ms/step - loss: 6.3045e-04\n",
      "Epoch 89/100\n",
      "62/62 [==============================] - 8s 125ms/step - loss: 6.1537e-04\n",
      "Epoch 90/100\n",
      "62/62 [==============================] - 7s 119ms/step - loss: 6.1428e-04\n",
      "Epoch 91/100\n",
      "62/62 [==============================] - 7s 118ms/step - loss: 7.0865e-04\n",
      "Epoch 92/100\n",
      "62/62 [==============================] - 10s 153ms/step - loss: 7.0428e-04\n",
      "Epoch 93/100\n",
      "62/62 [==============================] - 7s 116ms/step - loss: 6.5844e-04\n",
      "Epoch 94/100\n",
      "62/62 [==============================] - 9s 143ms/step - loss: 6.8381e-04\n",
      "Epoch 95/100\n",
      "62/62 [==============================] - 10s 157ms/step - loss: 6.1582e-04\n",
      "Epoch 96/100\n",
      "62/62 [==============================] - 8s 130ms/step - loss: 5.8609e-04\n"
     ]
    },
    {
     "name": "stdout",
     "output_type": "stream",
     "text": [
      "Epoch 97/100\n",
      "62/62 [==============================] - 5s 87ms/step - loss: 5.7007e-04\n",
      "Epoch 98/100\n",
      "62/62 [==============================] - 6s 89ms/step - loss: 7.1924e-04\n",
      "Epoch 99/100\n",
      "62/62 [==============================] - 6s 93ms/step - loss: 7.0867e-04\n",
      "Epoch 100/100\n",
      "62/62 [==============================] - 6s 93ms/step - loss: 5.6786e-04\n"
     ]
    },
    {
     "data": {
      "text/plain": [
       "<keras.callbacks.History at 0x160aee45be0>"
      ]
     },
     "execution_count": 13,
     "metadata": {},
     "output_type": "execute_result"
    }
   ],
   "source": [
    "# Adding the output layer\n",
    "regressor.add(Dense(units = 1))\n",
    "\n",
    "# Compiling the RNN\n",
    "regressor.compile(optimizer = 'adam', loss = 'mean_squared_error')\n",
    "\n",
    "# Fitting the RNN to the Training set\n",
    "regressor.fit(X_train, y_train, epochs = 100, batch_size = 32)"
   ]
  },
  {
   "cell_type": "code",
   "execution_count": 14,
   "id": "91e66042",
   "metadata": {},
   "outputs": [],
   "source": [
    "dataset_test = pd.read_csv('tatatest.csv')\n",
    "real_stock_price = dataset_test.iloc[:, 1:2].values"
   ]
  },
  {
   "cell_type": "code",
   "execution_count": 15,
   "id": "0ee94165",
   "metadata": {},
   "outputs": [],
   "source": [
    "dataset_total = pd.concat((dataset_train['Open'], dataset_test['Open']), axis = 0)\n",
    "inputs = dataset_total[len(dataset_total) - len(dataset_test) - 60:].values\n",
    "inputs = inputs.reshape(-1,1)\n",
    "inputs = sc.transform(inputs)\n",
    "X_test = []\n",
    "for i in range(60, 76):\n",
    "    X_test.append(inputs[i-60:i, 0])\n",
    "X_test = np.array(X_test)\n",
    "X_test = np.reshape(X_test, (X_test.shape[0], X_test.shape[1], 1))\n",
    "predicted_stock_price = regressor.predict(X_test)\n",
    "predicted_stock_price = sc.inverse_transform(predicted_stock_price)"
   ]
  },
  {
   "cell_type": "code",
   "execution_count": 16,
   "id": "88539e99",
   "metadata": {},
   "outputs": [
    {
     "data": {
      "image/png": "[encoded data removed]",
      "text/plain": [
       "<Figure size 432x288 with 1 Axes>"
      ]
     },
     "metadata": {
      "needs_background": "light"
     },
     "output_type": "display_data"
    }
   ],
   "source": [
    "plt.plot(real_stock_price, color = 'red', label = 'Real TATA Stock Price')\n",
    "plt.plot(predicted_stock_price, color = 'blue', label = 'Predicted TAT Stock Price')\n",
    "plt.title('TATA Stock Price Prediction')\n",
    "plt.xlabel('Time')\n",
    "plt.ylabel('TATA Stock Price')\n",
    "plt.legend()\n",
    "plt.show()"
   ]
  },
  {
   "cell_type": "code",
   "execution_count": null,
   "id": "c0afe0a4",
   "metadata": {},
   "outputs": [],
   "source": []
  },
  {
   "cell_type": "code",
   "execution_count": null,
   "id": "d0c94637",
   "metadata": {},
   "outputs": [],
   "source": []
  }
 ],
 "metadata": {
  "kernelspec": {
   "display_name": "Python 3 (ipykernel)",
   "language": "python",
   "name": "python3"
  },
  "language_info": {
   "codemirror_mode": {
    "name": "ipython",
    "version": 3
   },
   "file_extension": ".py",
   "mimetype": "text/x-python",
   "name": "python",
   "nbconvert_exporter": "python",
   "pygments_lexer": "ipython3",
   "version": "3.9.7"
  }
 },
 "nbformat": 4,
 "nbformat_minor": 5
}
